{
 "cells": [
  {
   "cell_type": "code",
   "execution_count": 2,
   "id": "76fec8bc-3443-47f4-990b-3f84d733aee8",
   "metadata": {},
   "outputs": [
    {
     "data": {
      "text/plain": [
       "array(['1', '2', '3', '4', '5'], dtype='<U1')"
      ]
     },
     "execution_count": 2,
     "metadata": {},
     "output_type": "execute_result"
    }
   ],
   "source": [
    "import numpy as np\n",
    "list_ = [ '1' , '2' , '3' , '4' , '5' ]\n",
    "array_list = np.array(object = list_)\n",
    "array_list"
   ]
  },
  {
   "cell_type": "markdown",
   "id": "8f249960-dab0-4e73-9f56-3fb76f074c38",
   "metadata": {},
   "source": [
    "# Answer1:\n",
    "list_ is a list of objects and array_list is a array of list."
   ]
  },
  {
   "cell_type": "code",
   "execution_count": 3,
   "id": "f86b6bf6-e15a-425a-9184-2c9b8355155a",
   "metadata": {},
   "outputs": [
    {
     "data": {
      "text/plain": [
       "numpy.ndarray"
      ]
     },
     "execution_count": 3,
     "metadata": {},
     "output_type": "execute_result"
    }
   ],
   "source": [
    "type(array_list)"
   ]
  },
  {
   "cell_type": "code",
   "execution_count": 4,
   "id": "b6bc73c3-d8b0-48ca-84a6-e7c857eec3a5",
   "metadata": {},
   "outputs": [
    {
     "data": {
      "text/plain": [
       "list"
      ]
     },
     "execution_count": 4,
     "metadata": {},
     "output_type": "execute_result"
    }
   ],
   "source": [
    "type(list_)"
   ]
  },
  {
   "cell_type": "markdown",
   "id": "b0bbd295-a04d-422c-8847-713aaad6e8f0",
   "metadata": {},
   "source": [
    "# Answer2:"
   ]
  },
  {
   "cell_type": "code",
   "execution_count": 13,
   "id": "e0972736-d678-4737-aac6-061e87904f91",
   "metadata": {},
   "outputs": [
    {
     "data": {
      "text/plain": [
       "str"
      ]
     },
     "execution_count": 13,
     "metadata": {},
     "output_type": "execute_result"
    }
   ],
   "source": [
    "def func(a):\n",
    "    for i in a:\n",
    "        return type(i)\n",
    "func(list_)"
   ]
  },
  {
   "cell_type": "code",
   "execution_count": 10,
   "id": "ecd93b7b-4ab9-4bc7-a2aa-ffdbd4a3223d",
   "metadata": {},
   "outputs": [
    {
     "data": {
      "text/plain": [
       "numpy.str_"
      ]
     },
     "execution_count": 10,
     "metadata": {},
     "output_type": "execute_result"
    }
   ],
   "source": [
    "func(array_list)"
   ]
  },
  {
   "cell_type": "markdown",
   "id": "dde9b92c-e612-4ccf-b47b-8777a1e1cb0d",
   "metadata": {},
   "source": [
    "# Answer3:"
   ]
  },
  {
   "cell_type": "code",
   "execution_count": 16,
   "id": "a5e24e30-086d-4793-a009-5d3008754f80",
   "metadata": {},
   "outputs": [
    {
     "data": {
      "text/plain": [
       "array([1, 2, 3, 4, 5])"
      ]
     },
     "execution_count": 16,
     "metadata": {},
     "output_type": "execute_result"
    }
   ],
   "source": [
    "arra_list = np.array(object = list_, dtype = int)\n",
    "arra_list"
   ]
  },
  {
   "cell_type": "markdown",
   "id": "b11ba5c3-5d66-418d-922c-2ec221313454",
   "metadata": {},
   "source": [
    "Yes the elements in arra_list and list_ are of different datatypes."
   ]
  },
  {
   "cell_type": "code",
   "execution_count": 18,
   "id": "ba3c6392-05dd-41b6-81d6-2b86e6dacd3f",
   "metadata": {},
   "outputs": [
    {
     "data": {
      "text/plain": [
       "numpy.int64"
      ]
     },
     "execution_count": 18,
     "metadata": {},
     "output_type": "execute_result"
    }
   ],
   "source": [
    "def fun(a):\n",
    "    for i in a:\n",
    "        return type(i)\n",
    "fun(arra_list)"
   ]
  },
  {
   "cell_type": "code",
   "execution_count": 19,
   "id": "a553b87c-5c08-4687-b979-b2ef91505a60",
   "metadata": {},
   "outputs": [
    {
     "data": {
      "text/plain": [
       "str"
      ]
     },
     "execution_count": 19,
     "metadata": {},
     "output_type": "execute_result"
    }
   ],
   "source": [
    "fun(list_)"
   ]
  },
  {
   "cell_type": "code",
   "execution_count": 20,
   "id": "ce8b6311-6bb0-45b7-a928-c30147a53fe0",
   "metadata": {},
   "outputs": [
    {
     "data": {
      "text/plain": [
       "array([[1, 2, 3],\n",
       "       [4, 5, 6]])"
      ]
     },
     "execution_count": 20,
     "metadata": {},
     "output_type": "execute_result"
    }
   ],
   "source": [
    "import numpy as np\n",
    "num_list = [ [ 1 , 2 , 3 ] , [ 4 , 5 , 6 ] ]\n",
    "num_array = np.array(object = num_list)\n",
    "num_array"
   ]
  },
  {
   "cell_type": "markdown",
   "id": "5fbe340d-8319-4523-ae8f-220d6c9b48b8",
   "metadata": {},
   "source": [
    "# Answer4:"
   ]
  },
  {
   "cell_type": "code",
   "execution_count": 21,
   "id": "2c727cd6-9f49-4192-9257-19417b2905a0",
   "metadata": {},
   "outputs": [
    {
     "data": {
      "text/plain": [
       "6"
      ]
     },
     "execution_count": 21,
     "metadata": {},
     "output_type": "execute_result"
    }
   ],
   "source": [
    "np.size(num_array)"
   ]
  },
  {
   "cell_type": "code",
   "execution_count": 22,
   "id": "94fff98a-668b-453f-9777-e237980bec13",
   "metadata": {},
   "outputs": [
    {
     "data": {
      "text/plain": [
       "(2, 3)"
      ]
     },
     "execution_count": 22,
     "metadata": {},
     "output_type": "execute_result"
    }
   ],
   "source": [
    "np.shape(num_array)"
   ]
  },
  {
   "cell_type": "markdown",
   "id": "0d39da03-1b5b-4464-84cf-34236955ce5e",
   "metadata": {},
   "source": [
    "# Answer5:"
   ]
  },
  {
   "cell_type": "code",
   "execution_count": 24,
   "id": "658cf1da-0244-4ad7-9148-f6044258f4f1",
   "metadata": {},
   "outputs": [
    {
     "data": {
      "text/plain": [
       "array([[0., 0., 0.],\n",
       "       [0., 0., 0.],\n",
       "       [0., 0., 0.]])"
      ]
     },
     "execution_count": 24,
     "metadata": {},
     "output_type": "execute_result"
    }
   ],
   "source": [
    "np.zeros((3,3))"
   ]
  },
  {
   "cell_type": "markdown",
   "id": "c96d1529-7e62-44b5-bf83-4b8c2c2a68d0",
   "metadata": {},
   "source": [
    "# Answer6:"
   ]
  },
  {
   "cell_type": "code",
   "execution_count": 25,
   "id": "9ec1c398-3fb9-4e83-9f6a-e57be09feeab",
   "metadata": {},
   "outputs": [
    {
     "data": {
      "text/plain": [
       "array([[1., 1., 1., 1., 1.],\n",
       "       [1., 1., 1., 1., 1.],\n",
       "       [1., 1., 1., 1., 1.],\n",
       "       [1., 1., 1., 1., 1.],\n",
       "       [1., 1., 1., 1., 1.]])"
      ]
     },
     "execution_count": 25,
     "metadata": {},
     "output_type": "execute_result"
    }
   ],
   "source": [
    "np.ones((5,5))"
   ]
  },
  {
   "cell_type": "code",
   "execution_count": null,
   "id": "6383e68f-ae9e-4f65-88d7-ebc089d5a200",
   "metadata": {},
   "outputs": [],
   "source": []
  }
 ],
 "metadata": {
  "kernelspec": {
   "display_name": "Python 3 (ipykernel)",
   "language": "python",
   "name": "python3"
  },
  "language_info": {
   "codemirror_mode": {
    "name": "ipython",
    "version": 3
   },
   "file_extension": ".py",
   "mimetype": "text/x-python",
   "name": "python",
   "nbconvert_exporter": "python",
   "pygments_lexer": "ipython3",
   "version": "3.10.8"
  }
 },
 "nbformat": 4,
 "nbformat_minor": 5
}
